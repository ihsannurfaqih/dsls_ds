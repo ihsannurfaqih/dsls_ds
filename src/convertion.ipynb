{
 "cells": [
  {
   "cell_type": "code",
   "execution_count": 17,
   "metadata": {},
   "outputs": [],
   "source": [
    "import pandas as pd\n",
    "import glob as glob\n",
    "import numpy as np"
   ]
  },
  {
   "cell_type": "code",
   "execution_count": 45,
   "metadata": {},
   "outputs": [],
   "source": [
    "data = glob.glob('../data/ritas*.csv')"
   ]
  },
  {
   "cell_type": "code",
   "execution_count": 46,
   "metadata": {},
   "outputs": [],
   "source": [
    "def agregate (file_location = '', \n",
    "              separator = ','):\n",
    "      dataframe = pd.read_csv(file_location, sep=separator)\n",
    "      dataframe['date'] = pd.to_datetime(dataframe['date'], format='%Y-%m-%d %H:%M:%S')\n",
    "      dataframe.set_index('date', inplace=True)\n",
    "      dataframe = dataframe.resample('24H').sum()\n",
    "      dataframe.to_csv(f\"{file_location[0:-4]}_agregated.csv\", index=True)\n",
    "      "
   ]
  },
  {
   "cell_type": "code",
   "execution_count": 47,
   "metadata": {},
   "outputs": [],
   "source": [
    "for i in data:\n",
    "      agregate(i)"
   ]
  }
 ],
 "metadata": {
  "kernelspec": {
   "display_name": ".venv",
   "language": "python",
   "name": "python3"
  },
  "language_info": {
   "codemirror_mode": {
    "name": "ipython",
    "version": 3
   },
   "file_extension": ".py",
   "mimetype": "text/x-python",
   "name": "python",
   "nbconvert_exporter": "python",
   "pygments_lexer": "ipython3",
   "version": "3.10.9"
  },
  "orig_nbformat": 4,
  "vscode": {
   "interpreter": {
    "hash": "51c75f1b1061e4426bf0f43c1035d248a3d394675b9ff57edd180a28c633baa0"
   }
  }
 },
 "nbformat": 4,
 "nbformat_minor": 2
}
