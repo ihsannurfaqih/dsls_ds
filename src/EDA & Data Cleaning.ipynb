{
 "cells": [
  {
   "attachments": {},
   "cell_type": "markdown",
   "metadata": {},
   "source": [
    "# Import Packages"
   ]
  },
  {
   "cell_type": "code",
   "execution_count": 1,
   "metadata": {},
   "outputs": [],
   "source": [
    "import pandas as pd\n",
    "import glob as glob\n",
    "import numpy as np\n",
    "import geopandas as ge\n",
    "import matplotlib.pyplot as plt\n",
    "import seaborn as sns"
   ]
  },
  {
   "attachments": {},
   "cell_type": "markdown",
   "metadata": {},
   "source": [
    "# Import Dataset"
   ]
  },
  {
   "cell_type": "code",
   "execution_count": 31,
   "metadata": {},
   "outputs": [],
   "source": [
    "df_jams = pd.read_csv(\"../data/raw/aggregate_median_jams_Kota Bogor.csv\")\n",
    "df_alerts = pd.read_csv(\"../data/raw/aggregate_alerts_Kota Bogor.csv\")\n",
    "df_irre = pd.read_csv(\"../data/raw/aggregate_median_irregularities_Kota Bogor.csv\")\n",
    "\n",
    "df_jams.drop(\"Unnamed: 0\", axis=1, inplace=True)"
   ]
  },
  {
   "attachments": {},
   "cell_type": "markdown",
   "metadata": {},
   "source": [
    "## Checking data on Alerts dataset & Info"
   ]
  },
  {
   "cell_type": "code",
   "execution_count": 19,
   "metadata": {},
   "outputs": [
    {
     "name": "stdout",
     "output_type": "stream",
     "text": [
      "<class 'pandas.core.frame.DataFrame'>\n",
      "RangeIndex: 102322 entries, 0 to 102321\n",
      "Data columns (total 13 columns):\n",
      " #   Column                     Non-Null Count   Dtype  \n",
      "---  ------                     --------------   -----  \n",
      " 0   time                       102322 non-null  object \n",
      " 1   kemendagri_kabupaten_kode  102322 non-null  float64\n",
      " 2   kemendagri_kabupaten_nama  102322 non-null  object \n",
      " 3   street                     100529 non-null  object \n",
      " 4   level                      102322 non-null  int64  \n",
      " 5   median_length              102322 non-null  float64\n",
      " 6   median_delay               102322 non-null  float64\n",
      " 7   median_speed_kmh           102322 non-null  float64\n",
      " 8   total_records              102322 non-null  int64  \n",
      " 9   id                         102322 non-null  int64  \n",
      " 10  date                       102322 non-null  object \n",
      " 11  median_level               102322 non-null  float64\n",
      " 12  geometry                   102322 non-null  object \n",
      "dtypes: float64(5), int64(3), object(5)\n",
      "memory usage: 10.1+ MB\n"
     ]
    }
   ],
   "source": [
    "df_jams.info()"
   ]
  },
  {
   "cell_type": "code",
   "execution_count": 20,
   "metadata": {},
   "outputs": [
    {
     "name": "stdout",
     "output_type": "stream",
     "text": [
      "<class 'pandas.core.frame.DataFrame'>\n",
      "RangeIndex: 9762 entries, 0 to 9761\n",
      "Data columns (total 9 columns):\n",
      " #   Column                     Non-Null Count  Dtype  \n",
      "---  ------                     --------------  -----  \n",
      " 0   id                         9762 non-null   int64  \n",
      " 1   time                       9762 non-null   object \n",
      " 2   kemendagri_kabupaten_kode  9762 non-null   float64\n",
      " 3   kemendagri_kabupaten_nama  9762 non-null   object \n",
      " 4   street                     8827 non-null   object \n",
      " 5   type                       9762 non-null   object \n",
      " 6   avg_location               9762 non-null   object \n",
      " 7   total_records              9762 non-null   int64  \n",
      " 8   date                       9762 non-null   object \n",
      "dtypes: float64(1), int64(2), object(6)\n",
      "memory usage: 686.5+ KB\n"
     ]
    }
   ],
   "source": [
    "df_alerts.info()"
   ]
  },
  {
   "cell_type": "code",
   "execution_count": 21,
   "metadata": {},
   "outputs": [
    {
     "data": {
      "text/html": [
       "<div>\n",
       "<style scoped>\n",
       "    .dataframe tbody tr th:only-of-type {\n",
       "        vertical-align: middle;\n",
       "    }\n",
       "\n",
       "    .dataframe tbody tr th {\n",
       "        vertical-align: top;\n",
       "    }\n",
       "\n",
       "    .dataframe thead th {\n",
       "        text-align: right;\n",
       "    }\n",
       "</style>\n",
       "<table border=\"1\" class=\"dataframe\">\n",
       "  <thead>\n",
       "    <tr style=\"text-align: right;\">\n",
       "      <th></th>\n",
       "      <th>time</th>\n",
       "      <th>kemendagri_kabupaten_kode</th>\n",
       "      <th>kemendagri_kabupaten_nama</th>\n",
       "      <th>street</th>\n",
       "      <th>level</th>\n",
       "      <th>median_length</th>\n",
       "      <th>median_delay</th>\n",
       "      <th>median_speed_kmh</th>\n",
       "      <th>total_records</th>\n",
       "      <th>id</th>\n",
       "      <th>date</th>\n",
       "      <th>median_level</th>\n",
       "      <th>geometry</th>\n",
       "    </tr>\n",
       "  </thead>\n",
       "  <tbody>\n",
       "    <tr>\n",
       "      <th>86342</th>\n",
       "      <td>2022-08-27 12:00:00.000</td>\n",
       "      <td>32.71</td>\n",
       "      <td>KOTA BOGOR</td>\n",
       "      <td>Tumenggung Wiradireja</td>\n",
       "      <td>3</td>\n",
       "      <td>378.0</td>\n",
       "      <td>111.0</td>\n",
       "      <td>8.165</td>\n",
       "      <td>2</td>\n",
       "      <td>36710961</td>\n",
       "      <td>2022-08-27</td>\n",
       "      <td>3.0</td>\n",
       "      <td>LINESTRING (106.830791 -6.58957, 106.830872 -6...</td>\n",
       "    </tr>\n",
       "    <tr>\n",
       "      <th>16193</th>\n",
       "      <td>2022-07-16 14:00:00.000</td>\n",
       "      <td>32.71</td>\n",
       "      <td>KOTA BOGOR</td>\n",
       "      <td>Siliwangi</td>\n",
       "      <td>3</td>\n",
       "      <td>956.0</td>\n",
       "      <td>327.0</td>\n",
       "      <td>7.155</td>\n",
       "      <td>56</td>\n",
       "      <td>34104928</td>\n",
       "      <td>2022-07-16</td>\n",
       "      <td>3.0</td>\n",
       "      <td>MULTILINESTRING ((106.808862 -6.614809, 106.80...</td>\n",
       "    </tr>\n",
       "    <tr>\n",
       "      <th>93477</th>\n",
       "      <td>2022-08-31 08:00:00.000</td>\n",
       "      <td>32.71</td>\n",
       "      <td>KOTA BOGOR</td>\n",
       "      <td>NaN</td>\n",
       "      <td>3</td>\n",
       "      <td>182.0</td>\n",
       "      <td>106.0</td>\n",
       "      <td>4.780</td>\n",
       "      <td>2</td>\n",
       "      <td>36956547</td>\n",
       "      <td>2022-08-31</td>\n",
       "      <td>3.0</td>\n",
       "      <td>LINESTRING (106.847234 -6.655619, 106.847274 -...</td>\n",
       "    </tr>\n",
       "    <tr>\n",
       "      <th>88534</th>\n",
       "      <td>2022-08-28 12:00:00.000</td>\n",
       "      <td>32.71</td>\n",
       "      <td>KOTA BOGOR</td>\n",
       "      <td>RE Martadinata</td>\n",
       "      <td>3</td>\n",
       "      <td>1365.0</td>\n",
       "      <td>165.0</td>\n",
       "      <td>13.310</td>\n",
       "      <td>7</td>\n",
       "      <td>36787091</td>\n",
       "      <td>2022-08-28</td>\n",
       "      <td>3.0</td>\n",
       "      <td>MULTILINESTRING ((106.79016 -6.582906, 106.787...</td>\n",
       "    </tr>\n",
       "    <tr>\n",
       "      <th>339</th>\n",
       "      <td>2022-07-06 10:00:00.000</td>\n",
       "      <td>32.71</td>\n",
       "      <td>KOTA BOGOR</td>\n",
       "      <td>Pangeran Asogiri</td>\n",
       "      <td>2</td>\n",
       "      <td>602.0</td>\n",
       "      <td>117.0</td>\n",
       "      <td>9.395</td>\n",
       "      <td>6</td>\n",
       "      <td>33469357</td>\n",
       "      <td>2022-07-06</td>\n",
       "      <td>2.0</td>\n",
       "      <td>MULTILINESTRING ((106.823206 -6.557153, 106.82...</td>\n",
       "    </tr>\n",
       "    <tr>\n",
       "      <th>100511</th>\n",
       "      <td>2022-09-04 07:00:00.000</td>\n",
       "      <td>32.71</td>\n",
       "      <td>KOTA BOGOR</td>\n",
       "      <td>Surya Kencana</td>\n",
       "      <td>2</td>\n",
       "      <td>827.0</td>\n",
       "      <td>144.0</td>\n",
       "      <td>12.530</td>\n",
       "      <td>9</td>\n",
       "      <td>37224250</td>\n",
       "      <td>2022-09-04</td>\n",
       "      <td>2.0</td>\n",
       "      <td>MULTILINESTRING ((106.799491 -6.604398, 106.80...</td>\n",
       "    </tr>\n",
       "    <tr>\n",
       "      <th>7341</th>\n",
       "      <td>2022-07-11 07:00:00.000</td>\n",
       "      <td>32.71</td>\n",
       "      <td>KOTA BOGOR</td>\n",
       "      <td>N9 Jalan Raya Tajur</td>\n",
       "      <td>1</td>\n",
       "      <td>1594.0</td>\n",
       "      <td>86.0</td>\n",
       "      <td>27.840</td>\n",
       "      <td>43</td>\n",
       "      <td>33770668</td>\n",
       "      <td>2022-07-11</td>\n",
       "      <td>1.0</td>\n",
       "      <td>MULTILINESTRING ((106.818424 -6.62308, 106.819...</td>\n",
       "    </tr>\n",
       "    <tr>\n",
       "      <th>7424</th>\n",
       "      <td>2022-07-11 08:00:00.000</td>\n",
       "      <td>32.71</td>\n",
       "      <td>KOTA BOGOR</td>\n",
       "      <td>Perintis Kemerdekaan</td>\n",
       "      <td>2</td>\n",
       "      <td>499.0</td>\n",
       "      <td>93.0</td>\n",
       "      <td>11.190</td>\n",
       "      <td>13</td>\n",
       "      <td>33770729</td>\n",
       "      <td>2022-07-11</td>\n",
       "      <td>2.0</td>\n",
       "      <td>MULTILINESTRING ((106.787584 -6.595391, 106.78...</td>\n",
       "    </tr>\n",
       "    <tr>\n",
       "      <th>69708</th>\n",
       "      <td>2022-08-16 13:00:00.000</td>\n",
       "      <td>32.71</td>\n",
       "      <td>KOTA BOGOR</td>\n",
       "      <td>N9 Jalan Raya Tajur</td>\n",
       "      <td>1</td>\n",
       "      <td>1547.0</td>\n",
       "      <td>79.0</td>\n",
       "      <td>27.620</td>\n",
       "      <td>25</td>\n",
       "      <td>36089682</td>\n",
       "      <td>2022-08-16</td>\n",
       "      <td>1.0</td>\n",
       "      <td>MULTILINESTRING ((106.816527 -6.621295, 106.81...</td>\n",
       "    </tr>\n",
       "    <tr>\n",
       "      <th>80180</th>\n",
       "      <td>2022-08-23 15:00:00.000</td>\n",
       "      <td>32.71</td>\n",
       "      <td>KOTA BOGOR</td>\n",
       "      <td>Kedunghalang Raya</td>\n",
       "      <td>1</td>\n",
       "      <td>1448.0</td>\n",
       "      <td>63.5</td>\n",
       "      <td>21.840</td>\n",
       "      <td>26</td>\n",
       "      <td>36473522</td>\n",
       "      <td>2022-08-23</td>\n",
       "      <td>1.0</td>\n",
       "      <td>MULTILINESTRING ((106.805846 -6.545258, 106.80...</td>\n",
       "    </tr>\n",
       "  </tbody>\n",
       "</table>\n",
       "</div>"
      ],
      "text/plain": [
       "                           time  kemendagri_kabupaten_kode  \\\n",
       "86342   2022-08-27 12:00:00.000                      32.71   \n",
       "16193   2022-07-16 14:00:00.000                      32.71   \n",
       "93477   2022-08-31 08:00:00.000                      32.71   \n",
       "88534   2022-08-28 12:00:00.000                      32.71   \n",
       "339     2022-07-06 10:00:00.000                      32.71   \n",
       "100511  2022-09-04 07:00:00.000                      32.71   \n",
       "7341    2022-07-11 07:00:00.000                      32.71   \n",
       "7424    2022-07-11 08:00:00.000                      32.71   \n",
       "69708   2022-08-16 13:00:00.000                      32.71   \n",
       "80180   2022-08-23 15:00:00.000                      32.71   \n",
       "\n",
       "       kemendagri_kabupaten_nama                 street  level  median_length  \\\n",
       "86342                 KOTA BOGOR  Tumenggung Wiradireja      3          378.0   \n",
       "16193                 KOTA BOGOR              Siliwangi      3          956.0   \n",
       "93477                 KOTA BOGOR                    NaN      3          182.0   \n",
       "88534                 KOTA BOGOR         RE Martadinata      3         1365.0   \n",
       "339                   KOTA BOGOR       Pangeran Asogiri      2          602.0   \n",
       "100511                KOTA BOGOR          Surya Kencana      2          827.0   \n",
       "7341                  KOTA BOGOR    N9 Jalan Raya Tajur      1         1594.0   \n",
       "7424                  KOTA BOGOR   Perintis Kemerdekaan      2          499.0   \n",
       "69708                 KOTA BOGOR    N9 Jalan Raya Tajur      1         1547.0   \n",
       "80180                 KOTA BOGOR      Kedunghalang Raya      1         1448.0   \n",
       "\n",
       "        median_delay  median_speed_kmh  total_records        id        date  \\\n",
       "86342          111.0             8.165              2  36710961  2022-08-27   \n",
       "16193          327.0             7.155             56  34104928  2022-07-16   \n",
       "93477          106.0             4.780              2  36956547  2022-08-31   \n",
       "88534          165.0            13.310              7  36787091  2022-08-28   \n",
       "339            117.0             9.395              6  33469357  2022-07-06   \n",
       "100511         144.0            12.530              9  37224250  2022-09-04   \n",
       "7341            86.0            27.840             43  33770668  2022-07-11   \n",
       "7424            93.0            11.190             13  33770729  2022-07-11   \n",
       "69708           79.0            27.620             25  36089682  2022-08-16   \n",
       "80180           63.5            21.840             26  36473522  2022-08-23   \n",
       "\n",
       "        median_level                                           geometry  \n",
       "86342            3.0  LINESTRING (106.830791 -6.58957, 106.830872 -6...  \n",
       "16193            3.0  MULTILINESTRING ((106.808862 -6.614809, 106.80...  \n",
       "93477            3.0  LINESTRING (106.847234 -6.655619, 106.847274 -...  \n",
       "88534            3.0  MULTILINESTRING ((106.79016 -6.582906, 106.787...  \n",
       "339              2.0  MULTILINESTRING ((106.823206 -6.557153, 106.82...  \n",
       "100511           2.0  MULTILINESTRING ((106.799491 -6.604398, 106.80...  \n",
       "7341             1.0  MULTILINESTRING ((106.818424 -6.62308, 106.819...  \n",
       "7424             2.0  MULTILINESTRING ((106.787584 -6.595391, 106.78...  \n",
       "69708            1.0  MULTILINESTRING ((106.816527 -6.621295, 106.81...  \n",
       "80180            1.0  MULTILINESTRING ((106.805846 -6.545258, 106.80...  "
      ]
     },
     "execution_count": 21,
     "metadata": {},
     "output_type": "execute_result"
    }
   ],
   "source": [
    "df_jams.sample(10)"
   ]
  },
  {
   "attachments": {},
   "cell_type": "markdown",
   "metadata": {},
   "source": [
    "# Data Quality Checking & Feature Transformation"
   ]
  },
  {
   "attachments": {},
   "cell_type": "markdown",
   "metadata": {},
   "source": [
    "## Jams Data"
   ]
  },
  {
   "cell_type": "code",
   "execution_count": 22,
   "metadata": {},
   "outputs": [
    {
     "data": {
      "text/plain": [
       "time                            0\n",
       "kemendagri_kabupaten_kode       0\n",
       "kemendagri_kabupaten_nama       0\n",
       "street                       1793\n",
       "level                           0\n",
       "median_length                   0\n",
       "median_delay                    0\n",
       "median_speed_kmh                0\n",
       "total_records                   0\n",
       "id                              0\n",
       "date                            0\n",
       "median_level                    0\n",
       "geometry                        0\n",
       "dtype: int64"
      ]
     },
     "execution_count": 22,
     "metadata": {},
     "output_type": "execute_result"
    }
   ],
   "source": [
    "df_jams.isna().sum()"
   ]
  },
  {
   "cell_type": "code",
   "execution_count": 23,
   "metadata": {},
   "outputs": [
    {
     "data": {
      "text/plain": [
       "(100529, 13)"
      ]
     },
     "execution_count": 23,
     "metadata": {},
     "output_type": "execute_result"
    }
   ],
   "source": [
    "df_jams.dropna(subset=['street'], axis=0, inplace=True)\n",
    "\n",
    "df_jams.shape"
   ]
  },
  {
   "attachments": {},
   "cell_type": "markdown",
   "metadata": {},
   "source": [
    "## Alerts Data"
   ]
  },
  {
   "cell_type": "code",
   "execution_count": 35,
   "metadata": {},
   "outputs": [
    {
     "data": {
      "text/plain": [
       "id                             0\n",
       "time                           0\n",
       "kemendagri_kabupaten_kode      0\n",
       "kemendagri_kabupaten_nama      0\n",
       "street                       935\n",
       "type                           0\n",
       "avg_location                   0\n",
       "total_records                  0\n",
       "date                           0\n",
       "dtype: int64"
      ]
     },
     "execution_count": 35,
     "metadata": {},
     "output_type": "execute_result"
    }
   ],
   "source": [
    "df_alerts.isna().sum()"
   ]
  },
  {
   "cell_type": "code",
   "execution_count": 25,
   "metadata": {},
   "outputs": [
    {
     "data": {
      "text/plain": [
       "(8827, 9)"
      ]
     },
     "execution_count": 25,
     "metadata": {},
     "output_type": "execute_result"
    }
   ],
   "source": [
    "df_alerts.dropna(subset=[\"street\"], axis=0,inplace=True)\n",
    "\n",
    "df_alerts.shape"
   ]
  },
  {
   "attachments": {},
   "cell_type": "markdown",
   "metadata": {},
   "source": [
    "## Transforming Data"
   ]
  },
  {
   "cell_type": "markdown",
   "metadata": {},
   "source": []
  }
 ],
 "metadata": {
  "kernelspec": {
   "display_name": "general",
   "language": "python",
   "name": "python3"
  },
  "language_info": {
   "codemirror_mode": {
    "name": "ipython",
    "version": 3
   },
   "file_extension": ".py",
   "mimetype": "text/x-python",
   "name": "python",
   "nbconvert_exporter": "python",
   "pygments_lexer": "ipython3",
   "version": "3.10.9"
  },
  "orig_nbformat": 4,
  "vscode": {
   "interpreter": {
    "hash": "2c733e5910f38d62bf613b038812241b1bb7c732b0d43c0a912bf0814be6f73b"
   }
  }
 },
 "nbformat": 4,
 "nbformat_minor": 2
}
