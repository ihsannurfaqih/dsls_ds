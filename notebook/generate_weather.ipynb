{
 "cells": [
  {
   "cell_type": "code",
   "execution_count": 1,
   "metadata": {},
   "outputs": [],
   "source": [
    "import pandas as pd\n",
    "import json\n",
    "import requests"
   ]
  },
  {
   "cell_type": "code",
   "execution_count": 3,
   "metadata": {},
   "outputs": [],
   "source": [
    "def generate_data (\n",
    "      start = 1,\n",
    "      end = 2,\n",
    "      api_key = ''):\n",
    "      base_url = f\"https://history.openweathermap.org/data/2.5/history/city?q=Bogor,ID&type=hour&start=1656651600&cnt=1662008400&appid=\"\n",
    "      response = requests.get(base_url)\n",
    "      x = response.json()\n",
    "      return base_url, x"
   ]
  },
  {
   "cell_type": "code",
   "execution_count": null,
   "metadata": {},
   "outputs": [],
   "source": [
    "from : 1656651600\n",
    "to : 1662008400"
   ]
  }
 ],
 "metadata": {
  "kernelspec": {
   "display_name": "base",
   "language": "python",
   "name": "python3"
  },
  "language_info": {
   "codemirror_mode": {
    "name": "ipython",
    "version": 3
   },
   "file_extension": ".py",
   "mimetype": "text/x-python",
   "name": "python",
   "nbconvert_exporter": "python",
   "pygments_lexer": "ipython3",
   "version": "3.9.16"
  },
  "orig_nbformat": 4,
  "vscode": {
   "interpreter": {
    "hash": "26404cad68bcc7d86cfb3e69296d01430bc2c7a317234d12f9c3b51439cdcd4b"
   }
  }
 },
 "nbformat": 4,
 "nbformat_minor": 2
}
