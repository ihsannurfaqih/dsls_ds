import pandas as pd
import numpy as np

# package for visualization
import seaborn as sns
import matplotlib.pyplot as plt

# package for data science
from sklearn.model_selection import train_test_split
from sklearn.preprocessing import StandardScaler

# modeling
from sklearn.ensemble import RandomForestClassifier
from sklearn.tree import DecisionTreeClassifier
from sklearn.linear_model import LogisticRegression
from sklearn.svm import SVC

# evaluation
from sklearn.metrics import confusion_matrix
from sklearn.metrics import f1_score

# pandas cofiguration
pd.options.display.max_columns=50


df_weather = pd.read_parquet('../data/interim/weather_data_final.parquet')

df_weather.sample(5)


df = pd.read_parquet('../data/interim/interim_data.parquet')

df.sample(5)


df.info()


df_weather.info()


df['time'] = pd.to_datetime(df['time'], format='%Y-%m-%d %H:%M:%S', utc=True)


df.sample(5)


df['time_rounded'] = df['time'].dt.round(freq='1h')
df['hour_rounded'] = df['time_rounded'].dt.hour

df.sample(5)


df.rename(columns={'time_rounded':'dt'}, inplace=True)


df_final = pd.merge(df, df_weather[['dt', 'main', 'rain.1h']], on='dt', how='left')


df_final.sample(5)


# checking data with rain
df_final.query(r"main == 'Rain'")


df_final.info()


df_final.duplicated().sum()


df_final[df_final.duplicated()]


df_final.drop_duplicates(inplace=True)


df_final.duplicated().sum()


df_final.isna().sum()


df_final['rain.1h'] = df_final['rain.1h'].fillna(0)


## renaming columns

df_final.rename(columns={'main':'weather',
                         'rain.1h':'rain_duration'}, inplace=True)


df_final.sample(5)


df_final.groupby(['level'])['total_records'].sum().sort_index().plot(kind='bar')
plt.xlabel('Jam Level')
plt.ylabel('#Records')


df_final['level_new'] = df_final['level'].astype(str).replace({'2':'1',
                                                '3':'2',
                                                '4':'3',
                                                '5':'3'}).astype(int)


df_final.groupby(['level_new'])['total_records'].sum().sort_index().plot(kind='bar')
plt.xlabel('Jam Level')
plt.ylabel('#Records')


df_final.groupby(['street']).agg({'total_records':np.sum}).sort_values(by='total_records', ascending=False)[0:20]


df_final.groupby(['day_name']).agg({'total_records':np.sum}).sort_values(by='total_records', ascending=False)


df_final.groupby(['hour']).agg({'total_records':np.sum}).sort_index().plot()
